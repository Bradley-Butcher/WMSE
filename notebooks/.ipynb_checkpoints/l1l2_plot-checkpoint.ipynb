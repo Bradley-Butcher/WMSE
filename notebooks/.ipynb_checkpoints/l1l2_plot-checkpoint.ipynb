{
 "cells": [
  {
   "cell_type": "code",
   "execution_count": 1,
   "id": "6be09fb2-9f72-4996-a0e9-911ae15dae2b",
   "metadata": {},
   "outputs": [],
   "source": [
    "import pandas as pd"
   ]
  },
  {
   "cell_type": "code",
   "execution_count": null,
   "id": "eb07160d-9191-4e19-a552-4bf34f9150f9",
   "metadata": {},
   "outputs": [],
   "source": [
    "results_1 = pd.read_csv(\"../results/l1_results.csv\")\n",
    "results_2 = pd.read_csv(\"../results/l1_results.csv\")"
   ]
  }
 ],
 "metadata": {
  "kernelspec": {
   "display_name": "Python 3",
   "language": "python",
   "name": "python3"
  },
  "language_info": {
   "codemirror_mode": {
    "name": "ipython",
    "version": 3
   },
   "file_extension": ".py",
   "mimetype": "text/x-python",
   "name": "python",
   "nbconvert_exporter": "python",
   "pygments_lexer": "ipython3",
   "version": "3.9.4"
  }
 },
 "nbformat": 4,
 "nbformat_minor": 5
}
